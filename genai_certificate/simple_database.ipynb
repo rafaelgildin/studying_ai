{
 "cells": [
  {
   "cell_type": "code",
   "execution_count": 2,
   "metadata": {},
   "outputs": [],
   "source": [
    "from sqlalchemy import create_engine\n",
    "from sqlalchemy import Table, Column, Integer, String, MetaData, ForeignKey\n",
    "from sqlalchemy.orm import sessionmaker\n",
    "\n",
    "engine = create_engine('sqlite:///ecommerce.db')\n",
    "metadata = MetaData()\n",
    "\n",
    "users = Table('users', metadata,\n",
    "              Column('id', Integer, primary_key=True),\n",
    "              Column('name', String),\n",
    "              Column('email', String, unique=True))\n",
    "\n",
    "products = Table('products', metadata,\n",
    "                 Column('id', Integer, primary_key=True),\n",
    "                 Column('name', String),\n",
    "                 Column('price', Integer))\n",
    "\n",
    "orders = Table('orders', metadata,\n",
    "               Column('id', Integer, primary_key=True),\n",
    "               Column('user_id', Integer, ForeignKey('users.id')))\n",
    "\n",
    "order_items = Table('order_items', metadata,\n",
    "                    Column('id', Integer, primary_key=True),\n",
    "                    Column('order_id', Integer, ForeignKey('orders.id')),\n",
    "                    Column('product_id', Integer, ForeignKey('products.id')),\n",
    "                    Column('quantity', Integer))\n",
    "\n",
    "# Create all tables\n",
    "metadata.create_all(engine)"
   ]
  },
  {
   "cell_type": "code",
   "execution_count": 4,
   "metadata": {},
   "outputs": [
    {
     "data": {
      "text/plain": [
       "[(1, 'Rafael', 'rafael@email.com'), (2, 'Rafael', 'rafael@com')]"
      ]
     },
     "execution_count": 4,
     "metadata": {},
     "output_type": "execute_result"
    }
   ],
   "source": [
    "Session = sessionmaker(bind=engine)\n",
    "session = Session()\n",
    "\n",
    "def add_user(name, email):\n",
    "    try:\n",
    "        new_user = users.insert().values(name=name, email=email)\n",
    "        session.execute(new_user)\n",
    "        session.commit()\n",
    "    except Exception as e:\n",
    "        print(f\"Error adding user: {e}\")\n",
    "\n",
    "def get_all_user():\n",
    "    query = users.select()\n",
    "    result = session.execute(query)\n",
    "    return result.fetchall()\n",
    "\n",
    "def update_user(user_id, new_email):\n",
    "    update = users.update().where(\n",
    "        users.c.id == user_id\n",
    "    ).values(email=new_email)\n",
    "    session.execute(update)\n",
    "    session.commit()\n",
    "        \n",
    "add_user('Rafael', 'rafael@com')\n",
    "update_user(1, 'rafael@email.com')\n",
    "get_all_user()\n"
   ]
  },
  {
   "cell_type": "code",
   "execution_count": 5,
   "metadata": {},
   "outputs": [
    {
     "data": {
      "text/plain": [
       "[(2, 'Rafael', 'rafael@com')]"
      ]
     },
     "execution_count": 5,
     "metadata": {},
     "output_type": "execute_result"
    }
   ],
   "source": [
    "def delete_user(user_id):\n",
    "    try:\n",
    "        query = users.delete().where(users.c.id == user_id)\n",
    "        session.execute(query)\n",
    "        session.commit()\n",
    "    except Exception as e:\n",
    "        print(f\"Error deleting user: {e}\")\n",
    "        \n",
    "delete_user(1)\n",
    "get_all_user()"
   ]
  }
 ],
 "metadata": {
  "kernelspec": {
   "display_name": "genai",
   "language": "python",
   "name": "python3"
  },
  "language_info": {
   "codemirror_mode": {
    "name": "ipython",
    "version": 3
   },
   "file_extension": ".py",
   "mimetype": "text/x-python",
   "name": "python",
   "nbconvert_exporter": "python",
   "pygments_lexer": "ipython3",
   "version": "3.12.3"
  }
 },
 "nbformat": 4,
 "nbformat_minor": 2
}
