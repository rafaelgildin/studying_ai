{
 "cells": [
  {
   "cell_type": "markdown",
   "metadata": {},
   "source": [
    "## Topics"
   ]
  },
  {
   "cell_type": "markdown",
   "metadata": {},
   "source": [
    "```\n",
    "- DSA:\n",
    "    • Binary tree: traversal (depth first, breath first, recursion based vs non-recursion), complexity analysis\n",
    "    • Linked List: different types (bi-directional, circular, etc), search, revert, insert/delete\n",
    "    • Hash table/set: when to use hash table, complexity analysis\n",
    "    • String/Array: manipular string , revert, insert, remove, and search\n",
    "    • Stack and Queue: when to use stack or Queue\n",
    "    • Heap and Priority Queue: where to use and how to use them, their algorithm to maintain ordering\n",
    "\n",
    "- Problem solving:\n",
    "    • Divide & conquer (typically resulting in a recursion approach)\n",
    "    • Quick lookup (hash table/set)\n",
    "    • Keep previous context (stack)\n",
    "```"
   ]
  },
  {
   "cell_type": "markdown",
   "metadata": {},
   "source": [
    "### Table comparing each DSA"
   ]
  },
  {
   "cell_type": "markdown",
   "metadata": {},
   "source": [
    "| **DSA**             | **Use-Cases**                                                                                 | **Complexity**                                      |\n",
    "|---------------------|-----------------------------------------------------------------------------------------------|----------------------------------------------------------------------------|\n",
    "| **Binary Tree**     | Hierarchical data (e.g., filesystems, decision trees), recursive algorithms, balancing (AVL). | Insert: O(log n), Search: O(log n) for BST, O(n) worst-case.              |\n",
    "| **Linked List**     | Dynamic data size, frequent insertions/deletions, implement stacks/queues.                    | Insert: O(1) at head, Search: O(n), Delete: O(1) if node pointer is known.|\n",
    "| **Hash Table/Set**  | Fast lookups, indexing, caching, unique collections.                                          | Average: O(1) for all, Worst: O(n) (hash collisions).                      |\n",
    "| **String/Array**    | Text processing, fixed-size data, random access (arrays), substrings, pattern matching.       | Insert/Delete: O(n), Search: O(n), Random Access (array): O(1).           |\n",
    "| **Stack/Queue**     | Stack: Reverse strings, call stack simulation. Queue: Scheduling, BFS traversal.              | Stack (push/pop): O(1), Queue (enqueue/dequeue): O(1).                     |\n",
    "| **Heap/Priority Queue** | Priority-based tasks (e.g., Dijkstra, job scheduling). Maintain smallest/largest efficiently. | Insert/Delete/Peek: O(log n), Search: O(n).                            |\n"
   ]
  },
  {
   "cell_type": "markdown",
   "metadata": {},
   "source": [
    "## Binary tree Traversal \n",
    "- Traversal means visiting all nodes from the tree\n",
    "- Topics: (depth first, breath first, recursion based vs non-recursion), complexity analysis"
   ]
  },
  {
   "cell_type": "code",
   "execution_count": 10,
   "metadata": {},
   "outputs": [
    {
     "name": "stdout",
     "output_type": "stream",
     "text": [
      "DFS Pre-order (Recursive):\n",
      "1 2 4 5 3 6 7 \n",
      "DFS In-order (Recursive):\n",
      "4 2 5 1 6 3 7 \n",
      "DFS Post-order (Recursive):\n",
      "4 5 2 6 7 3 1 \n",
      "DFS Pre-order (Iterative):\n",
      "1 2 4 5 3 6 7 \n",
      "DFS In-order (Iterative):\n",
      "4 2 5 1 6 3 7 \n",
      "BFS Level-order:\n",
      "1 2 3 4 5 6 7 "
     ]
    }
   ],
   "source": [
    "class TreeNode:\n",
    "    def __init__(self, value=0, left=None, right=None):\n",
    "        self.value = value\n",
    "        self.left = left\n",
    "        self.right = right\n",
    "\n",
    "    # DFS Pre-order (Recursive)\n",
    "    def dfs_preorder_recursive(self):\n",
    "        print(self.value, end=\" \")\n",
    "        if self.left: self.left.dfs_preorder_recursive()\n",
    "        if self.right: self.right.dfs_preorder_recursive()\n",
    "\n",
    "    # DFS In-order (Recursive)\n",
    "    def dfs_inorder_recursive(self):\n",
    "        if self.left: self.left.dfs_inorder_recursive()\n",
    "        print(self.value, end=\" \")\n",
    "        if self.right: self.right.dfs_inorder_recursive()\n",
    "\n",
    "    # DFS Post-order (Recursive)\n",
    "    def dfs_postorder_recursive(self):\n",
    "        if self.left: self.left.dfs_postorder_recursive()\n",
    "        if self.right: self.right.dfs_postorder_recursive()\n",
    "        print(self.value, end=\" \")\n",
    "\n",
    "    # DFS Pre-order (Iterative)\n",
    "    def dfs_preorder_iterative(self):\n",
    "        stack = [self]\n",
    "        while stack:\n",
    "            node = stack.pop()\n",
    "            print(node.value, end=\" \")\n",
    "            if node.right: stack.append(node.right)\n",
    "            if node.left: stack.append(node.left)\n",
    "\n",
    "    # DFS In-order (Iterative)\n",
    "    def dfs_inorder_iterative(self):\n",
    "        stack = []\n",
    "        current = self\n",
    "        while stack or current:\n",
    "            while current:\n",
    "                stack.append(current)\n",
    "                current = current.left\n",
    "            current = stack.pop()\n",
    "            print(current.value, end=\" \")\n",
    "            current = current.right\n",
    "\n",
    "    # BFS (Level-order)\n",
    "    def bfs_level_order(self):\n",
    "        from collections import deque\n",
    "        queue = deque([self])\n",
    "        while queue:\n",
    "            node = queue.popleft()\n",
    "            print(node.value, end=\" \")\n",
    "            if node.left:\n",
    "                queue.append(node.left)\n",
    "            if node.right:\n",
    "                queue.append(node.right)\n",
    "            \n",
    "# Build Example Tree\n",
    "root = TreeNode(1)\n",
    "root.left = TreeNode(2)\n",
    "root.right = TreeNode(3)\n",
    "root.left.left = TreeNode(4)\n",
    "root.left.right = TreeNode(5)\n",
    "root.right.left = TreeNode(6)\n",
    "root.right.right = TreeNode(7)\n",
    "\n",
    "# Perform Traversals\n",
    "print(\"DFS Pre-order (Recursive):\")\n",
    "root.dfs_preorder_recursive()\n",
    "print(\"\\nDFS In-order (Recursive):\")\n",
    "root.dfs_inorder_recursive()\n",
    "print(\"\\nDFS Post-order (Recursive):\")\n",
    "root.dfs_postorder_recursive()\n",
    "\n",
    "print(\"\\nDFS Pre-order (Iterative):\")\n",
    "root.dfs_preorder_iterative()\n",
    "print(\"\\nDFS In-order (Iterative):\")\n",
    "root.dfs_inorder_iterative()\n",
    "\n",
    "print(\"\\nBFS Level-order:\")\n",
    "root.bfs_level_order()"
   ]
  },
  {
   "cell_type": "markdown",
   "metadata": {},
   "source": [
    "## Linked List\n",
    "different types (bi-directional, circular, etc), search, revert, insert/delete"
   ]
  },
  {
   "cell_type": "code",
   "execution_count": 11,
   "metadata": {},
   "outputs": [],
   "source": [
    "class SinglyLinkedListNode:\n",
    "    def __init__(self, value=0, next=None):\n",
    "        self.value = value\n",
    "        self.next = next\n",
    "\n",
    "\n",
    "class SinglyLinkedList:\n",
    "    def __init__(self):\n",
    "        self.head = None\n",
    "\n",
    "    # Insert at the head\n",
    "    def insert_at_head(self, value):\n",
    "        new_node = SinglyLinkedListNode(value, self.head)\n",
    "        self.head = new_node\n",
    "\n",
    "    # Delete by value\n",
    "    def delete(self, value):\n",
    "        dummy = SinglyLinkedListNode(0, self.head)\n",
    "        prev, current = dummy, self.head\n",
    "        while current:\n",
    "            if current.value == value:\n",
    "                prev.next = current.next\n",
    "                break\n",
    "            prev, current = current, current.next\n",
    "        self.head = dummy.next\n",
    "\n",
    "    # Search for a value\n",
    "    def search(self, value):\n",
    "        current = self.head\n",
    "        while current:\n",
    "            if current.value == value:\n",
    "                return True\n",
    "            current = current.next\n",
    "        return False\n",
    "\n",
    "    # Reverse the linked list\n",
    "    def reverse(self):\n",
    "        prev, current = None, self.head\n",
    "        while current:\n",
    "            next_node = current.next\n",
    "            current.next = prev\n",
    "            prev, current = current, next_node\n",
    "        self.head = prev\n",
    "\n",
    "    # Print the linked list\n",
    "    def print_list(self):\n",
    "        current = self.head\n",
    "        while current:\n",
    "            print(current.value, end=\" -> \")\n",
    "            current = current.next\n",
    "        print(\"None\")\n"
   ]
  },
  {
   "cell_type": "markdown",
   "metadata": {},
   "source": [
    "## Hash table/set: when to use hash table, complexity analysis"
   ]
  },
  {
   "cell_type": "code",
   "execution_count": 1,
   "metadata": {},
   "outputs": [
    {
     "name": "stdout",
     "output_type": "stream",
     "text": [
      "{'name': 'Rafael', 'age': 16}\n"
     ]
    }
   ],
   "source": [
    "hash_table = {}\n",
    "\n",
    "hash_table['name'] = \"Rafael\"\n",
    "hash_table['age'] = 16\n",
    "\n",
    "print(hash_table)"
   ]
  },
  {
   "cell_type": "code",
   "execution_count": 2,
   "metadata": {},
   "outputs": [
    {
     "name": "stdout",
     "output_type": "stream",
     "text": [
      "Age is in\n"
     ]
    }
   ],
   "source": [
    "if \"age\" in hash_table: print(\"Age is in\")"
   ]
  },
  {
   "cell_type": "markdown",
   "metadata": {},
   "source": [
    "### hash Sets"
   ]
  },
  {
   "cell_type": "code",
   "execution_count": 7,
   "metadata": {},
   "outputs": [
    {
     "data": {
      "text/plain": [
       "{1, 2}"
      ]
     },
     "execution_count": 7,
     "metadata": {},
     "output_type": "execute_result"
    }
   ],
   "source": [
    "hash_set = set()\n",
    "hash_set.add(1)\n",
    "hash_set.add(2)\n",
    "hash_set.add(2)\n",
    "hash_set"
   ]
  },
  {
   "cell_type": "code",
   "execution_count": 9,
   "metadata": {},
   "outputs": [],
   "source": [
    "hash_set.remove(1)\n"
   ]
  },
  {
   "cell_type": "code",
   "execution_count": 10,
   "metadata": {},
   "outputs": [
    {
     "data": {
      "text/plain": [
       "{2}"
      ]
     },
     "execution_count": 10,
     "metadata": {},
     "output_type": "execute_result"
    }
   ],
   "source": [
    "hash_set"
   ]
  },
  {
   "cell_type": "code",
   "execution_count": 12,
   "metadata": {},
   "outputs": [
    {
     "name": "stdout",
     "output_type": "stream",
     "text": [
      "Help on built-in function clear:\n",
      "\n",
      "clear(...) method of builtins.set instance\n",
      "    Remove all elements from this set.\n",
      "\n"
     ]
    }
   ],
   "source": [
    "help(hash_set.clear)"
   ]
  },
  {
   "cell_type": "markdown",
   "metadata": {},
   "source": [
    "## String/Array: manipular string , revert, insert, remove, and search\n"
   ]
  },
  {
   "cell_type": "code",
   "execution_count": 16,
   "metadata": {},
   "outputs": [
    {
     "name": "stdout",
     "output_type": "stream",
     "text": [
      "reverse string gnirts a si siht\n"
     ]
    }
   ],
   "source": [
    "s = \"this is a string\"\n",
    "\n",
    "def reverse_string(s): return s[::-1]\n",
    "def insert_string(a, b): \n",
    "    a += b\n",
    "    return a\n",
    "    \n",
    "    \n",
    "print(f\"reverse string {reverse_string(s)}\")\n"
   ]
  },
  {
   "cell_type": "code",
   "execution_count": 24,
   "metadata": {},
   "outputs": [
    {
     "data": {
      "text/plain": [
       "2"
      ]
     },
     "execution_count": 24,
     "metadata": {},
     "output_type": "execute_result"
    }
   ],
   "source": [
    "s.find('is')"
   ]
  },
  {
   "cell_type": "code",
   "execution_count": 18,
   "metadata": {},
   "outputs": [],
   "source": [
    "s += ' hi'"
   ]
  },
  {
   "cell_type": "code",
   "execution_count": 19,
   "metadata": {},
   "outputs": [
    {
     "data": {
      "text/plain": [
       "'this is a string hi'"
      ]
     },
     "execution_count": 19,
     "metadata": {},
     "output_type": "execute_result"
    }
   ],
   "source": [
    "s"
   ]
  },
  {
   "cell_type": "markdown",
   "metadata": {},
   "source": [
    "    • Stack and Queue: when to use stack or Queue\n",
    "    • Heap and Priority Queue: where to use and how to use them, their algorithm to maintain ordering\n",
    "\n",
    "- Problem solving:\n",
    "    • Divide & conquer (typically resulting in a recursion approach)\n",
    "    • Quick lookup (hash table/set)\n",
    "    • Keep previous context (stack)"
   ]
  }
 ],
 "metadata": {
  "kernelspec": {
   "display_name": "genai",
   "language": "python",
   "name": "python3"
  },
  "language_info": {
   "codemirror_mode": {
    "name": "ipython",
    "version": 3
   },
   "file_extension": ".py",
   "mimetype": "text/x-python",
   "name": "python",
   "nbconvert_exporter": "python",
   "pygments_lexer": "ipython3",
   "version": "3.12.3"
  }
 },
 "nbformat": 4,
 "nbformat_minor": 2
}
