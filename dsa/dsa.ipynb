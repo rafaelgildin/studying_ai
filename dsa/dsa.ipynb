{
 "cells": [
  {
   "cell_type": "markdown",
   "metadata": {},
   "source": [
    "## Topics"
   ]
  },
  {
   "cell_type": "markdown",
   "metadata": {},
   "source": [
    "```\n",
    "- DSA:\n",
    "    • Binary tree: traversal (depth first, breath first, recursion based vs non-recursion), complexity analysis\n",
    "    • Linked List: different types (bi-directional, circular, etc), search, revert, insert/delete\n",
    "    • Hash table/set: when to use hash table, complexity analysis\n",
    "    • String/Array: manipular string , revert, insert, remove, and search\n",
    "    • Stack and Queue: when to use stack or Queue\n",
    "    • Heap and Priority Queue: where to use and how to use them, their algorithm to maintain ordering\n",
    "\n",
    "- Problem solving:\n",
    "    • Divide & conquer (typically resulting in a recursion approach)\n",
    "    • Quick lookup (hash table/set)\n",
    "    • Keep previous context (stack)\n",
    "```"
   ]
  },
  {
   "cell_type": "markdown",
   "metadata": {},
   "source": [
    "### Table comparing each DSA"
   ]
  },
  {
   "cell_type": "markdown",
   "metadata": {},
   "source": [
    "| **DSA**             | **Use-Cases**                                                                                 | **Complexity**                                      |\n",
    "|---------------------|-----------------------------------------------------------------------------------------------|----------------------------------------------------------------------------|\n",
    "| **Binary Tree**     | Hierarchical data (e.g., filesystems, decision trees), recursive algorithms, balancing (AVL). | Insert: O(log n), Search: O(log n) for BST, O(n) worst-case.              |\n",
    "| **Linked List**     | Dynamic data size, frequent insertions/deletions, implement stacks/queues.                    | Insert: O(1) at head, Search: O(n), Delete: O(1) if node pointer is known.|\n",
    "| **Hash Table/Set**  | Fast lookups, indexing, caching, unique collections.                                          | Average: O(1) for all, Worst: O(n) (hash collisions).                      |\n",
    "| **String/Array**    | Text processing, fixed-size data, random access (arrays), substrings, pattern matching.       | Insert/Delete: O(n), Search: O(n), Random Access (array): O(1).           |\n",
    "| **Stack/Queue**     | Stack: Reverse strings, call stack simulation. Queue: Scheduling, BFS traversal.              | Stack (push/pop): O(1), Queue (enqueue/dequeue): O(1).                     |\n",
    "| **Heap/Priority Queue** | Priority-based tasks (e.g., Dijkstra, job scheduling). Maintain smallest/largest efficiently. | Insert/Delete/Peek: O(log n), Search: O(n).                            |\n"
   ]
  },
  {
   "cell_type": "markdown",
   "metadata": {},
   "source": [
    "## Binary tree Traversal \n",
    "- Traversal means visiting all nodes from the tree\n",
    "- Topics: (depth first, breath first, recursion based vs non-recursion), complexity analysis"
   ]
  },
  {
   "cell_type": "code",
   "execution_count": 4,
   "metadata": {},
   "outputs": [],
   "source": [
    "class TreeNode:\n",
    "    def __init__(self, value=0, left=None, right=None):\n",
    "        self.value = value\n",
    "        self.left = left\n",
    "        self.right = right\n",
    "        \n",
    "# Depth First Search \n",
    "def dps_"
   ]
  },
  {
   "cell_type": "markdown",
   "metadata": {},
   "source": [
    "## Linked List"
   ]
  },
  {
   "cell_type": "code",
   "execution_count": 6,
   "metadata": {},
   "outputs": [],
   "source": [
    "class ListNode:\n",
    "    def __init__(self, value=0, next=None):\n",
    "        self.value = value\n",
    "        self.next = next\n",
    "        \n",
    "    def print_linked_list(head):\n",
    "        current = head\n",
    "        while(current):\n",
    "            print(f\"{current.value}->\")\n",
    "            current = current.next\n",
    "            \n",
    "    def print_reverse_linked_list(head):\n",
    "        values = []\n",
    "        current = head\n",
    "        while(current):\n",
    "            values.append(current.value)\n",
    "            current = current.next\n",
    "        print(values[::-1])\n",
    "        \n",
    "    def reverse_linked_list(head):\n",
    "        p = None\n",
    "        c = head\n",
    "        while c:\n",
    "            n = c.next  # Save next node\n",
    "            c.next = p  # Reverse the link \n",
    "            p = c       # Move prev forward\n",
    "            c = n       # Move current forward\n",
    "        return p\n",
    "\n",
    "head = ListNode(1)\n",
    "head.next = ListNode(2)\n",
    "head.next.next = ListNode(3)\n",
    "# head.print_linked_list()\n",
    "# head.print_reverse_linked_list()\n"
   ]
  }
 ],
 "metadata": {
  "kernelspec": {
   "display_name": "ctr",
   "language": "python",
   "name": "python3"
  },
  "language_info": {
   "codemirror_mode": {
    "name": "ipython",
    "version": 3
   },
   "file_extension": ".py",
   "mimetype": "text/x-python",
   "name": "python",
   "nbconvert_exporter": "python",
   "pygments_lexer": "ipython3",
   "version": "3.10.14"
  }
 },
 "nbformat": 4,
 "nbformat_minor": 2
}
